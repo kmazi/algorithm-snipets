{
 "cells": [
  {
   "cell_type": "markdown",
   "id": "e12edec2",
   "metadata": {},
   "source": [
    "## List Snippets\n",
    "### 2 Dimentional array (matrix)"
   ]
  },
  {
   "cell_type": "code",
   "execution_count": 19,
   "id": "8d0c3302",
   "metadata": {},
   "outputs": [],
   "source": [
    "from pprint import pprint"
   ]
  },
  {
   "cell_type": "code",
   "execution_count": 20,
   "id": "68546b03",
   "metadata": {},
   "outputs": [],
   "source": [
    "# square matrix\n",
    "matrix = [\n",
    "    [2,3,4,5,67,4],\n",
    "    [1,7,3,2,6,9],\n",
    "    [8,9,0,2,3,4],\n",
    "    [3,4,1,5,7,8]\n",
    "]"
   ]
  },
  {
   "cell_type": "code",
   "execution_count": 21,
   "id": "cd932892",
   "metadata": {},
   "outputs": [
    {
     "name": "stdout",
     "output_type": "stream",
     "text": [
      "[[2, 1, 8, 3],\n",
      " [3, 7, 9, 4],\n",
      " [4, 3, 0, 1],\n",
      " [5, 2, 2, 5],\n",
      " [67, 6, 3, 7],\n",
      " [4, 9, 4, 8]]\n"
     ]
    }
   ],
   "source": [
    "# Transpose matrix 1\n",
    "transpose = [[matrix[row][col] for row in range(len(matrix))] for col in range(len(matrix[0]))]\n",
    "pprint(transpose)"
   ]
  },
  {
   "cell_type": "code",
   "execution_count": 22,
   "id": "7cfe8707",
   "metadata": {},
   "outputs": [
    {
     "name": "stdout",
     "output_type": "stream",
     "text": [
      "[[2, 1, 8, 3],\n",
      " [3, 7, 9, 4],\n",
      " [4, 3, 0, 1],\n",
      " [5, 2, 2, 5],\n",
      " [67, 6, 3, 7],\n",
      " [4, 9, 4, 8]]\n"
     ]
    }
   ],
   "source": [
    "# Transpose matrix 2\n",
    "transpose = [list(col) for col in zip(*matrix)]\n",
    "pprint(transpose)"
   ]
  },
  {
   "cell_type": "code",
   "execution_count": 24,
   "id": "8afad244",
   "metadata": {},
   "outputs": [
    {
     "name": "stdout",
     "output_type": "stream",
     "text": [
      "[[3, 8, 1, 2],\n",
      " [4, 9, 7, 3],\n",
      " [1, 0, 3, 4],\n",
      " [5, 2, 2, 5],\n",
      " [7, 3, 6, 67],\n",
      " [8, 4, 9, 4]]\n"
     ]
    }
   ],
   "source": [
    "# Rotation clockwise 90 degrees 1\n",
    "rot90 = [[matrix[row][col] for row in range(len(matrix)-1, -1, -1)] for col in range(len(matrix[0]))]\n",
    "pprint(rot90)"
   ]
  },
  {
   "cell_type": "code",
   "execution_count": 25,
   "id": "c7d9909d",
   "metadata": {},
   "outputs": [
    {
     "name": "stdout",
     "output_type": "stream",
     "text": [
      "[(3, 8, 1, 2),\n",
      " (4, 9, 7, 3),\n",
      " (1, 0, 3, 4),\n",
      " (5, 2, 2, 5),\n",
      " (7, 3, 6, 67),\n",
      " (8, 4, 9, 4)]\n"
     ]
    }
   ],
   "source": [
    "# Rotation clockwise 90 degrees 2\n",
    "rot90 = [col[::-1] for col in zip(*matrix)]\n",
    "pprint(rot90)"
   ]
  },
  {
   "cell_type": "code",
   "execution_count": null,
   "id": "bf87d319",
   "metadata": {},
   "outputs": [],
   "source": []
  }
 ],
 "metadata": {
  "kernelspec": {
   "display_name": "Python 3.8.3 64-bit",
   "language": "python",
   "name": "python38364bit4dc59e73bf7b4e96b1c85a5709f61092"
  },
  "language_info": {
   "codemirror_mode": {
    "name": "ipython",
    "version": 3
   },
   "file_extension": ".py",
   "mimetype": "text/x-python",
   "name": "python",
   "nbconvert_exporter": "python",
   "pygments_lexer": "ipython3",
   "version": "3.9.6"
  }
 },
 "nbformat": 4,
 "nbformat_minor": 5
}
